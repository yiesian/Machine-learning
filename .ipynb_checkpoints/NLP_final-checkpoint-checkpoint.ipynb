{
 "cells": [
  {
   "cell_type": "markdown",
   "id": "155b91b9",
   "metadata": {},
   "source": [
    "## Libraries"
   ]
  },
  {
   "cell_type": "code",
   "execution_count": 1,
   "id": "b4910564",
   "metadata": {},
   "outputs": [
    {
     "name": "stderr",
     "output_type": "stream",
     "text": [
      "D:\\anaconda3\\lib\\site-packages\\malaya_boilerplate\\frozen_graph.py:35: UserWarning: Cannot import beam_search_ops from Tensorflow Addons, ['malaya.jawi_rumi.deep_model', 'malaya.phoneme.deep_model', 'malaya.rumi_jawi.deep_model', 'malaya.stem.deep_model'] will not available to use, make sure Tensorflow Addons version >= 0.12.0\n",
      "  warnings.warn(\n",
      "D:\\anaconda3\\lib\\site-packages\\malaya_boilerplate\\frozen_graph.py:38: UserWarning: check compatible Tensorflow version with Tensorflow Addons at https://github.com/tensorflow/addons/releases\n",
      "  warnings.warn(\n"
     ]
    }
   ],
   "source": [
    "import numpy as np\n",
    "import pandas as pd\n",
    "import seaborn as sns\n",
    "import os\n",
    "import re\n",
    "import nltk\n",
    "from nltk.tokenize import word_tokenize\n",
    "import malaya"
   ]
  },
  {
   "cell_type": "markdown",
   "id": "9a1b0f93",
   "metadata": {},
   "source": [
    "## Read csv file"
   ]
  },
  {
   "cell_type": "code",
   "execution_count": 2,
   "id": "ad035175",
   "metadata": {},
   "outputs": [
    {
     "name": "stdout",
     "output_type": "stream",
     "text": [
      "60\n",
      "                         date  likesCount  \\\n",
      "0    2022-12-16T04:49:26.000Z         209   \n",
      "1    2022-12-16T02:11:30.000Z         157   \n",
      "2    2022-12-16T02:08:06.000Z         167   \n",
      "3    2022-12-16T02:10:05.000Z          66   \n",
      "4    2022-12-16T06:39:38.000Z          27   \n",
      "..                        ...         ...   \n",
      "651  2022-12-17T00:20:44.000Z           0   \n",
      "652  2022-12-16T04:25:39.000Z           0   \n",
      "653  2022-12-16T03:46:34.000Z           0   \n",
      "654  2022-12-16T02:58:52.000Z           1   \n",
      "655  2022-12-16T03:12:03.000Z           0   \n",
      "\n",
      "                                       postDescription        postId  \\\n",
      "0    Kenyataan Media\\n\\nDikejutkan dengan insiden t...  7.300000e+14   \n",
      "1    Kenyataan Media\\n\\nDikejutkan dengan insiden t...  7.300000e+14   \n",
      "2    Kenyataan Media\\n\\nDikejutkan dengan insiden t...  7.300000e+14   \n",
      "3    Kenyataan Media\\n\\nDikejutkan dengan insiden t...  7.300000e+14   \n",
      "4    Kenyataan Media\\n\\nDikejutkan dengan insiden t...  7.300000e+14   \n",
      "..                                                 ...           ...   \n",
      "651  Kenyataan Media\\n\\nDikejutkan dengan insiden t...  7.300000e+14   \n",
      "652  Kenyataan Media\\n\\nDikejutkan dengan insiden t...  7.300000e+14   \n",
      "653  Kenyataan Media\\n\\nDikejutkan dengan insiden t...  7.300000e+14   \n",
      "654  Kenyataan Media\\n\\nDikejutkan dengan insiden t...  7.300000e+14   \n",
      "655  Kenyataan Media\\n\\nDikejutkan dengan insiden t...  7.300000e+14   \n",
      "\n",
      "         postTitle               profileName  \\\n",
      "0    Anwar Ibrahim  Raisul Fadhla Safiruddin   \n",
      "1    Anwar Ibrahim          Hj Zahri Mohamed   \n",
      "2    Anwar Ibrahim             Siew Hoon Tai   \n",
      "3    Anwar Ibrahim                  Alex Goh   \n",
      "4    Anwar Ibrahim             Jangan Fitnah   \n",
      "..             ...                       ...   \n",
      "651  Anwar Ibrahim                 Seven Lee   \n",
      "652  Anwar Ibrahim                Asrul Jazz   \n",
      "653  Anwar Ibrahim       Che Kassim Abdullah   \n",
      "654  Anwar Ibrahim                Syah Rusli   \n",
      "655  Anwar Ibrahim                  Mas Oonk   \n",
      "\n",
      "                                        profilePicture  \\\n",
      "0    https://scontent-sjc3-1.xx.fbcdn.net/v/t39.308...   \n",
      "1    https://scontent-sjc3-1.xx.fbcdn.net/v/t39.308...   \n",
      "2    https://scontent-sjc3-1.xx.fbcdn.net/v/t39.308...   \n",
      "3    https://scontent-sjc3-1.xx.fbcdn.net/v/t1.6435...   \n",
      "4    https://scontent-sjc3-1.xx.fbcdn.net/v/t39.308...   \n",
      "..                                                 ...   \n",
      "651  https://scontent.fgla3-1.fna.fbcdn.net/v/t1.18...   \n",
      "652  https://scontent.fgla3-2.fna.fbcdn.net/v/t1.64...   \n",
      "653  https://scontent.fgla3-1.fna.fbcdn.net/v/t1.64...   \n",
      "654  https://scontent-lga3-1.xx.fbcdn.net/v/t39.308...   \n",
      "655  https://scontent-lga3-1.xx.fbcdn.net/v/t39.308...   \n",
      "\n",
      "                                      profileUrl  \\\n",
      "0             https://www.facebook.com/raissafir   \n",
      "1         https://www.facebook.com/zahri.mohamed   \n",
      "2          https://www.facebook.com/siewhoon.tai   \n",
      "3                                            NaN   \n",
      "4                                            NaN   \n",
      "..                                           ...   \n",
      "651                                          NaN   \n",
      "652         https://www.facebook.com/asruljazlan   \n",
      "653  https://www.facebook.com/chekassim.abdullah   \n",
      "654                                          NaN   \n",
      "655          https://www.facebook.com/mas.oonk.5   \n",
      "\n",
      "                                                  text  \n",
      "0    Ya, kadang-kadang kedatangan menteri-menteri b...  \n",
      "1    Terbaik  Dato sri PM10, menteri jgn sibuk2 nk ...  \n",
      "2                             Terbaik DSAI????????????  \n",
      "3    Terbaik DSAI, semoga kesemua yang terperangkap...  \n",
      "4    Assalamualaikum DSAI yg di sayangi ramai\\n\\nSe...  \n",
      "..                                                 ...  \n",
      "651                         Takda lesen blh beoperasi?  \n",
      "652  Peringatan yang baik untuk menteri-menteri, se...  \n",
      "653  Siapa yg nak pi ganggu semua raayat klu bolih ...  \n",
      "654  Innalillahiwainnailaihiroiiun\\nSalam Takziah u...  \n",
      "655  Kasian ini yng kena musibah longsor moga datok...  \n",
      "\n",
      "[656 rows x 9 columns]\n"
     ]
    }
   ],
   "source": [
    "print(pd.options.display.max_rows)\n",
    "df = pd.read_csv(\"C:\\\\Users\\\\yiesi\\\\OneDrive\\\\Desktop\\\\assignment\\\\latest.csv\")\n",
    "print(df)"
   ]
  },
  {
   "cell_type": "code",
   "execution_count": 3,
   "id": "e952a8a2",
   "metadata": {},
   "outputs": [
    {
     "name": "stdout",
     "output_type": "stream",
     "text": [
      "<class 'pandas.core.frame.DataFrame'>\n",
      "RangeIndex: 656 entries, 0 to 655\n",
      "Data columns (total 9 columns):\n",
      " #   Column           Non-Null Count  Dtype  \n",
      "---  ------           --------------  -----  \n",
      " 0   date             656 non-null    object \n",
      " 1   likesCount       656 non-null    int64  \n",
      " 2   postDescription  656 non-null    object \n",
      " 3   postId           656 non-null    float64\n",
      " 4   postTitle        656 non-null    object \n",
      " 5   profileName      656 non-null    object \n",
      " 6   profilePicture   656 non-null    object \n",
      " 7   profileUrl       460 non-null    object \n",
      " 8   text             656 non-null    object \n",
      "dtypes: float64(1), int64(1), object(7)\n",
      "memory usage: 46.2+ KB\n"
     ]
    }
   ],
   "source": [
    "df.info()"
   ]
  },
  {
   "cell_type": "code",
   "execution_count": 4,
   "id": "ab5db29a",
   "metadata": {},
   "outputs": [
    {
     "data": {
      "text/plain": [
       "date                 0\n",
       "likesCount           0\n",
       "postDescription      0\n",
       "postId               0\n",
       "postTitle            0\n",
       "profileName          0\n",
       "profilePicture       0\n",
       "profileUrl         196\n",
       "text                 0\n",
       "dtype: int64"
      ]
     },
     "execution_count": 4,
     "metadata": {},
     "output_type": "execute_result"
    }
   ],
   "source": [
    "df.isnull().sum()\n"
   ]
  },
  {
   "cell_type": "code",
   "execution_count": 5,
   "id": "671776fb",
   "metadata": {},
   "outputs": [],
   "source": [
    "comment = df['text'] \n",
    "comment.dropna(inplace=True)"
   ]
  },
  {
   "cell_type": "code",
   "execution_count": 6,
   "id": "19d57c35",
   "metadata": {},
   "outputs": [
    {
     "data": {
      "text/plain": [
       "0"
      ]
     },
     "execution_count": 6,
     "metadata": {},
     "output_type": "execute_result"
    }
   ],
   "source": [
    "comment.isna().sum()"
   ]
  },
  {
   "cell_type": "code",
   "execution_count": 7,
   "id": "f395c63b",
   "metadata": {},
   "outputs": [
    {
     "data": {
      "text/plain": [
       "<bound method NDFrame.describe of 0      Ya, kadang-kadang kedatangan menteri-menteri b...\n",
       "1      Terbaik  Dato sri PM10, menteri jgn sibuk2 nk ...\n",
       "2                               Terbaik DSAI????????????\n",
       "3      Terbaik DSAI, semoga kesemua yang terperangkap...\n",
       "4      Assalamualaikum DSAI yg di sayangi ramai\\n\\nSe...\n",
       "                             ...                        \n",
       "651                           Takda lesen blh beoperasi?\n",
       "652    Peringatan yang baik untuk menteri-menteri, se...\n",
       "653    Siapa yg nak pi ganggu semua raayat klu bolih ...\n",
       "654    Innalillahiwainnailaihiroiiun\\nSalam Takziah u...\n",
       "655    Kasian ini yng kena musibah longsor moga datok...\n",
       "Name: text, Length: 656, dtype: object>"
      ]
     },
     "execution_count": 7,
     "metadata": {},
     "output_type": "execute_result"
    }
   ],
   "source": [
    "comment.describe"
   ]
  },
  {
   "cell_type": "code",
   "execution_count": 8,
   "id": "a3720e07",
   "metadata": {},
   "outputs": [
    {
     "data": {
      "text/plain": [
       "dtype('O')"
      ]
     },
     "execution_count": 8,
     "metadata": {},
     "output_type": "execute_result"
    }
   ],
   "source": [
    "comment.dtypes"
   ]
  },
  {
   "cell_type": "markdown",
   "id": "53cbc930",
   "metadata": {},
   "source": [
    "## Text pre-processing"
   ]
  },
  {
   "cell_type": "code",
   "execution_count": 9,
   "id": "5049abca",
   "metadata": {},
   "outputs": [],
   "source": [
    "# lower case\n",
    "def lower_text(text):\n",
    "    text = text.lower()\n",
    "    return text\n",
    "\n",
    "# removing line breaks\n",
    "def line_breaks(text):\n",
    "    text = re.sub(r'\\n', ' ', text)\n",
    "    return text\n",
    "\n",
    "# removing special characters\n",
    "def remove_special_characters(text):\n",
    "    pattern = r'[^a-zA-z0-9\\s]'\n",
    "    text = re.sub(pattern,' ',text)\n",
    "    return text"
   ]
  },
  {
   "cell_type": "code",
   "execution_count": 10,
   "id": "74cc2216",
   "metadata": {},
   "outputs": [],
   "source": [
    "comment = comment.apply(lower_text)\n",
    "comment = comment.apply(line_breaks)\n",
    "comment = comment.apply(remove_special_characters)"
   ]
  },
  {
   "cell_type": "code",
   "execution_count": 11,
   "id": "0ad66e03",
   "metadata": {},
   "outputs": [
    {
     "data": {
      "text/plain": [
       "0     ya  kadang kadang kedatangan menteri menteri b...\n",
       "1     terbaik  dato sri pm10  menteri jgn sibuk2 nk ...\n",
       "2                              terbaik dsai            \n",
       "3     terbaik dsai  semoga kesemua yang terperangkap...\n",
       "4     assalamualaikum dsai yg di sayangi ramai  semo...\n",
       "5     semoga misi mencari dipermudahkan  anak buah s...\n",
       "6           tindakan yg pantas dari pm 10 terbaik dsai \n",
       "7     alhamdulillah  bila seorang pemimpin yg berjiw...\n",
       "8     musim tengkujuh ni  kawasan camping mcm ni san...\n",
       "9     innalillahiwainnailaihiroiiun salam takziah un...\n",
       "10    sedikit pun aku tak rasa menyesal undi ph pada...\n",
       "11    mohon pm dsai keluarkan pekeliling musim hujan...\n",
       "12    anwar ibrahim pm yg sgt perihatin terbaik dsai...\n",
       "13    marilah semua tak kira latarbelakang kepercaya...\n",
       "14                         terbaik dsai bertindak laju \n",
       "15    semoga tuhan mempermudah kerja kerja pencahari...\n",
       "16    laju pihak perdana menteri dan kabinet respond   \n",
       "17    sebaiknya nasihatkan menteri2 berkaitan hanya ...\n",
       "18                           semoga mangsa2 dapat di...\n",
       "19    alhamdulillah  semoga dipermudahkan urusan sem...\n",
       "Name: text, dtype: object"
      ]
     },
     "execution_count": 11,
     "metadata": {},
     "output_type": "execute_result"
    }
   ],
   "source": [
    "comment.head(20)"
   ]
  },
  {
   "cell_type": "code",
   "execution_count": 12,
   "id": "dbeb1089",
   "metadata": {},
   "outputs": [
    {
     "data": {
      "text/plain": [
       "pandas.core.series.Series"
      ]
     },
     "execution_count": 12,
     "metadata": {},
     "output_type": "execute_result"
    }
   ],
   "source": [
    "type(comment)"
   ]
  },
  {
   "cell_type": "code",
   "execution_count": 13,
   "id": "f8bee01f",
   "metadata": {},
   "outputs": [
    {
     "data": {
      "text/plain": [
       "'sir have you visited the disaster site  we understand your update and can see your are working hard  perhaps pause your posts for a day to mourn for this horrible disaster  no offense sir  we respect you and admire your leadership however this is important '"
      ]
     },
     "execution_count": 13,
     "metadata": {},
     "output_type": "execute_result"
    }
   ],
   "source": [
    "comment[40]"
   ]
  },
  {
   "cell_type": "markdown",
   "id": "f8d9c220",
   "metadata": {},
   "source": [
    "## Translation"
   ]
  },
  {
   "cell_type": "code",
   "execution_count": 14,
   "id": "76840312",
   "metadata": {},
   "outputs": [],
   "source": [
    "from googletrans import Translator\n",
    "translator = Translator()\n"
   ]
  },
  {
   "cell_type": "code",
   "execution_count": 15,
   "id": "c23b9dbe",
   "metadata": {},
   "outputs": [],
   "source": [
    "comment = [translator.translate(c, dest=\"ms\") for c in comment]"
   ]
  },
  {
   "cell_type": "code",
   "execution_count": 16,
   "id": "f74da871",
   "metadata": {},
   "outputs": [],
   "source": [
    "comment = [comment[i].text for i in range(len(comment))]"
   ]
  },
  {
   "cell_type": "code",
   "execution_count": 17,
   "id": "0b3ffd67",
   "metadata": {},
   "outputs": [],
   "source": [
    "comment = pd.Series(comment)"
   ]
  },
  {
   "cell_type": "code",
   "execution_count": 18,
   "id": "97350b35",
   "metadata": {},
   "outputs": [
    {
     "data": {
      "text/plain": [
       "'tuan adakah anda melawat tapak bencana kami memahami kemas kini anda dan dapat melihat anda bekerja keras mungkin jeda siaran anda selama sehari untuk berkabung atas bencana yang mengerikan ini tiada kesalahan tuan kami menghormati anda dan mengagumi kepimpinan anda namun ini penting'"
      ]
     },
     "execution_count": 18,
     "metadata": {},
     "output_type": "execute_result"
    }
   ],
   "source": [
    "comment[40]"
   ]
  },
  {
   "cell_type": "markdown",
   "id": "6a70ffcf",
   "metadata": {},
   "source": [
    "## Tokenization"
   ]
  },
  {
   "cell_type": "code",
   "execution_count": 19,
   "id": "cb146201",
   "metadata": {},
   "outputs": [
    {
     "data": {
      "text/plain": [
       "['ya',\n",
       " 'kadang',\n",
       " 'kadang',\n",
       " 'kedatangan',\n",
       " 'menteri',\n",
       " 'menteri',\n",
       " 'bukannya',\n",
       " 'membantu',\n",
       " 'malah',\n",
       " 'hanya',\n",
       " 'menyusahkan',\n",
       " 'petugas',\n",
       " 'dan',\n",
       " 'mengganggu',\n",
       " 'kerja',\n",
       " 'yang',\n",
       " 'sedang',\n",
       " 'giat',\n",
       " 'dilaksanakan',\n",
       " 'kita',\n",
       " 'juga',\n",
       " 'tidak',\n",
       " 'lupa',\n",
       " 'beberapa',\n",
       " 'orang',\n",
       " 'menteri',\n",
       " 'yang',\n",
       " 'berlakon',\n",
       " 'buat',\n",
       " 'kerja',\n",
       " 'masa',\n",
       " 'banjir',\n",
       " 'di',\n",
       " 'taman',\n",
       " 'sri',\n",
       " 'muda',\n",
       " 'dan',\n",
       " 'hulu',\n",
       " 'langat',\n",
       " 'dulu']"
      ]
     },
     "execution_count": 19,
     "metadata": {},
     "output_type": "execute_result"
    }
   ],
   "source": [
    "nltk.word_tokenize(comment[0])"
   ]
  },
  {
   "cell_type": "code",
   "execution_count": 20,
   "id": "cdbd1bed",
   "metadata": {},
   "outputs": [
    {
     "name": "stdout",
     "output_type": "stream",
     "text": [
      "0      [ya, kadang, kadang, kedatangan, menteri, ment...\n",
      "1      [terbaik, dato, sri, pm10, menteri, jgn, sibuk...\n",
      "2                                        [terbaik, dsai]\n",
      "3      [terbaik, dsai, semoga, kesemua, yang, terpera...\n",
      "4      [assalamualaikum, dsai, yg, di, sayangi, ramai...\n",
      "                             ...                        \n",
      "651                       [takda, lesen, blh, beoperasi]\n",
      "652    [peringatan, yang, baik, untuk, menteri, mente...\n",
      "653    [siapa, yg, nak, pi, ganggu, semua, raayat, kl...\n",
      "654    [innalillahiwainnailaihiroiiun, salam, takziah...\n",
      "655    [kasian, ini, yng, kena, musibah, longsor, mog...\n",
      "Length: 656, dtype: object\n"
     ]
    }
   ],
   "source": [
    "tokens = comment.apply(word_tokenize)\n",
    "print(tokens)"
   ]
  },
  {
   "cell_type": "markdown",
   "id": "3ca5ddb7",
   "metadata": {},
   "source": [
    "## Malay Lemmatization"
   ]
  },
  {
   "cell_type": "code",
   "execution_count": 21,
   "id": "b183bd93",
   "metadata": {},
   "outputs": [],
   "source": [
    "sastrawi = malaya.stem.sastrawi()\n",
    "texts = [\" \".join(token) for token in tokens]"
   ]
  },
  {
   "cell_type": "code",
   "execution_count": 22,
   "id": "e9aca4b2",
   "metadata": {},
   "outputs": [
    {
     "name": "stdout",
     "output_type": "stream",
     "text": [
      "0      ya kadang kadang datang menteri menteri bukan ...\n",
      "1      baik dato sri pm10 menteri jgn sibuk2 nk minta...\n",
      "2                                              baik dsai\n",
      "3      baik dsai moga semua yang perangkap dapat selamat\n",
      "4      assalamualaikum dsai yg di sayang ramai moga a...\n",
      "                             ...                        \n",
      "651                            takda lesen blh beoperasi\n",
      "652    ingat yang baik untuk menteri menteri sebab be...\n",
      "653    siapa yg nak pi ganggu semua raayat klu bolih ...\n",
      "654    innalillahiwainnailaihiroiiun salam takziah un...\n",
      "655    kasi ini yng kena musibah longsor moga datok a...\n",
      "Length: 656, dtype: object\n"
     ]
    }
   ],
   "source": [
    "sentence = [sastrawi.stem(comments) for comments in texts]\n",
    "sentence = pd.Series(sentence)\n",
    "print(sentence)"
   ]
  },
  {
   "cell_type": "markdown",
   "id": "60a2a82e",
   "metadata": {},
   "source": [
    "## Rojak Lemmatization"
   ]
  },
  {
   "cell_type": "code",
   "execution_count": 23,
   "id": "edd27de0",
   "metadata": {},
   "outputs": [
    {
     "data": {
      "text/plain": [
       "0     [ya, kadang, kadang, datang, menteri, menteri,...\n",
       "1     [baik, dato, sri, pm10, menteri, jgn, sibuk2, ...\n",
       "2                                          [baik, dsai]\n",
       "3     [baik, dsai, moga, semua, yang, perangkap, dap...\n",
       "4     [assalamualaikum, dsai, yg, di, sayang, ramai,...\n",
       "5     [moga, misi, cari, mudah, anak, buah, saya, do...\n",
       "6        [tindak, yg, pantas, dari, pm, 10, baik, dsai]\n",
       "7     [alhamdulillah, bila, orang, pimpin, yg, jiwa,...\n",
       "8     [musim, tengkujuh, ni, kawasan, camping, mcm, ...\n",
       "9     [innalillahiwainnailaihiroiiun, salam, takziah...\n",
       "10    [sedikit, pun, aku, tak, rasa, sesal, undi, ph...\n",
       "11    [mohon, pm, dsai, keluar, keliling, musim, huj...\n",
       "12    [anwar, ibrahim, pm, yg, sgt, perihatin, baik,...\n",
       "13    [mari, semua, tak, kira, latarbelakang, percay...\n",
       "14                           [baik, dsai, tindak, laju]\n",
       "15     [moga, tuhan, mudah, kerja, kerja, cahari, amin]\n",
       "16    [laju, pihak, perdana, menteri, dan, kabinet, ...\n",
       "17    [baik, nasihat, menteri2, kait, hanya, monitor...\n",
       "18    [moga, mangsa2, dapat, selamat, dan, para, tug...\n",
       "19    [alhamdulillah, moga, mudah, urus, semua, mang...\n",
       "dtype: object"
      ]
     },
     "execution_count": 23,
     "metadata": {},
     "output_type": "execute_result"
    }
   ],
   "source": [
    "sentence_tok = sentence.apply(word_tokenize)\n",
    "sentence_tok.head(20)"
   ]
  },
  {
   "cell_type": "code",
   "execution_count": 24,
   "id": "15e2b449",
   "metadata": {},
   "outputs": [],
   "source": [
    "malaydict = {\n",
    "    \"2\" : \"itu\",\n",
    "    \"6be\" : \"nombor\",\n",
    "    \"abe\" : \"habis\",\n",
    "    \"abes\" : \"habis\",\n",
    "    \"abg\" : \"abang\",\n",
    "    \"abih\" : \"habis\",\n",
    "    \"ade\" : \"ada\",\n",
    "    \"adek\" : \"adik\",\n",
    "    \"adeq\" : \"adik\",\n",
    "    \"ader\" : \"ada\",\n",
    "    \"adk\" : \"adik\",\n",
    "    \"adlh\" : \"adalah\",\n",
    "    \"ado\" : \"ada\",\n",
    "    \"agensi2\" : \"agensi-agensi\",\n",
    "    \"agk\" : \"agak\",\n",
    "    \"agr\" : \"agar\",\n",
    "    \"aje\" : \"saja\",\n",
    "    \"ajer\" : \"saja\",\n",
    "    \"ak\" : \"aku\",\n",
    "    \"ako\" : \"aku\",\n",
    "    \"amat2\" : \"amat-amat\",\n",
    "    \"ambik\" : \"ambil\",\n",
    "    \"amek\" : \"ambil\",\n",
    "    \"amt\" : \"amat\",\n",
    "    \"ank\" : \"anak\",\n",
    "    \"anggota2\" : \"anggota-anggota\",\n",
    "    \"apa2\": \"apa-apa\",\n",
    "    \"ape\" : \"apa\",\n",
    "    \"aper\" : \"apa\",\n",
    "    \"apehal\" : \"apa hal\",\n",
    "    \"aq\" : \"aku\",\n",
    "    \"arap\" : \"harap\",\n",
    "    \"ari\" : \"hari\",\n",
    "    \"aritu\" : \"hari itu\",\n",
    "    \"ats\" : \"atas\",\n",
    "    \"bagitau\" : \"bagitahu\",\n",
    "    \"baik2\" : \"baik-baik\",\n",
    "    \"baper\" : \"berapa\",\n",
    "    \"bca\" : \"baca\",\n",
    "    \"bleh\" : \"boleh\",\n",
    "    \"blek\" : \"balik\",\n",
    "    \"bende\" : \"benda\",\n",
    "    \"berhrp\" : \"berharap\",\n",
    "    \"bg\" : \"bagi\",\n",
    "    \"bgi\" : \"bagi\",\n",
    "    \"bgitu\" : \"begitu\",\n",
    "    \"bgtau\" : \"bagitahu\",\n",
    "    \"bior\" : \"biar\",\n",
    "    \"biorlh\" : \"biarlah\",\n",
    "    \"bkn\" : \"bukan\",\n",
    "    \"blah\" : \"belah\",\n",
    "    \"blh\" : \"boleh\",\n",
    "    \"bljr\" : \"belajar\",\n",
    "    \"blk\" : \"belakang\",\n",
    "    \"blkng\" : \"belakang\",\n",
    "    \"blker\" : \"belakang\",\n",
    "    \"bls\" : \"balas\",\n",
    "    \"bndingkn\" : \"bandingkan\",\n",
    "    \"bnyak\" : \"bakyak\",\n",
    "    \"biase\" : \"biasa\",\n",
    "    \"bodo\" : \"bodoh\",\n",
    "    \"bole\" : \"boleh\",\n",
    "    \"bolih\" : \"boleh\",\n",
    "    \"brader\" : \"abang\",\n",
    "    \"brduka\" : \"berduka\",\n",
    "    \"brjln\" : \"berjalan\",\n",
    "    \"bjya\" : \"berjaya\",\n",
    "    \"brlaku\" : \"berlaku\",\n",
    "    \"brg\" : \"barang\",\n",
    "    \"brp\" : \"berapa\",\n",
    "    \"brulang\" : \"berulang\",\n",
    "    \"btl\" : \"betul\",\n",
    "    \"budak2\" : \"budak-budak\",\n",
    "    \"bukit2\" : \"bukit-bukit\",\n",
    "    \"bwh\" : \"bawah\",\n",
    "    \"byk\" : \"banyak\",\n",
    "    \"byk2\" : \"banyank-banyak\",\n",
    "    \"byr\" : \"bayar\",\n",
    "    \"camna\" : \"macam mana\",\n",
    "    \"camne\" : \"macam mana\",\n",
    "    \"camner\" : \"macam mana\",\n",
    "    \"camni\" : \"macam ini\",\n",
    "    \"camtu\" : \"macam itu\",\n",
    "    \"cbuk\" : \"sibuk\",\n",
    "    \"chat\" : \"sihat\",\n",
    "    \"ckap\" : \"cakap\",\n",
    "    \"ckp\" : \"cakap\",\n",
    "    \"cm\" : \"macam\",\n",
    "    \"cmana\" : \"macam mana\",\n",
    "    \"cmane\" : \"macam mana\",\n",
    "    \"cmburu\" : \"cemburu\",\n",
    "    \"cmna\" : \"macam mana\",\n",
    "    \"cmne\" : \"macam mana\",\n",
    "    \"cmner\" : \"macam mana\",\n",
    "    \"cmpur\" : \"campur\",\n",
    "    \"cni\" : \"sini\",\n",
    "    \"cpur\" : \"campur\",\n",
    "    \"cpt\" : \"cepat\",\n",
    "    \"c2\" : \"situ\",\n",
    "    \"ctu\" : \"situ\",\n",
    "    \"cukuplh\" : \"cukuplah\",\n",
    "    \"d\" : \"di\",\n",
    "    \"dea\" : \"dia\",\n",
    "    \"dear\" : \"dia\",\n",
    "    \"deorg\" : \"dia orang\",\n",
    "    \"deorng\" : \"dia orang\",\n",
    "    \"dgar\" : \"dengar\",\n",
    "    \"dgn\" : \"dengan\",\n",
    "    \"dgr\" : \"dengar\",\n",
    "    \"dh\" : \"dah\",\n",
    "    \"diaorg\" : \"dia orang\",\n",
    "    \"diaorng\" : \"dia orang\",\n",
    "    \"didlm\" : \"di dalam\",\n",
    "    \"die\" : \"dia\",\n",
    "    \"dier\" : \"dia\",\n",
    "    \"dikluarkan\" : \"dikeluarkan\",\n",
    "    \"diprmudahkn\" : \"dipermudahkan\",\n",
    "    \"dk\" : \"dekat\",\n",
    "    \"dkat\" : \"dekat\",\n",
    "    \"dkt\" : \"dekat\",\n",
    "    \"dl\" : \"dulu\",\n",
    "    \"dlakukn\" : \"dilakukan\",\n",
    "    \"dlm\" : \"dalam\",\n",
    "    \"dlu\" : \"dulu\",\n",
    "    \"dn\" : \"dan\",\n",
    "    \"dngn\" : \"dengan\",\n",
    "    \"doakn\" : \"doakan\",\n",
    "    \"dok\" : \"duduk\",\n",
    "    \"dorg\" : \"dia orang\",\n",
    "    \"dpd\" : \"daripada\",\n",
    "    \"doc\" : \"doktor\",\n",
    "    \"dpmudahkn\" : \"dapat mudahkan\",\n",
    "    \"dprmudhkn\" : \"dipermudahkan\",\n",
    "    \"dpt\" : \"dapat\",\n",
    "    \"dr\" : \"dari\",\n",
    "    \"drnya\" : \"darinya\",\n",
    "    \"drp\" : \"daripada\",\n",
    "    \"ds\" : \"dato seri\",\n",
    "    \"dsai\" : \"dato' seri anwar bin ibrahim\",\n",
    "    \"dseri\" : \"dato seri\",\n",
    "    \"dslmtkn\" : \"diselamatkan\",\n",
    "    \"dtg\" : \"datang\",\n",
    "    \"duk\" : \"duduk\",\n",
    "    \"dun\" : \"dunia\",\n",
    "    \"elkn\" : \"elokan\",\n",
    "    \"eloklh\" : \"eloklah\",\n",
    "    \"fhm\" : \"faham\",\n",
    "    \"fhmx\" : \"faham tak\",\n",
    "    \"fkr\" : \"fikir\",\n",
    "    \"fmly\" : \"keluarga\",\n",
    "    \"g\" : \"pergi\",\n",
    "    \"gak\" : \"juga\",\n",
    "    \"gi\" : \"pergi\",\n",
    "    \"gile\" : \"gila\",\n",
    "    \"giler\" : \"gila\",\n",
    "    \"gini\" : \"begini\",\n",
    "    \"gitu\" : \"begitu\",\n",
    "    \"gna\" : \"guna\",\n",
    "    \"gne\" : \"guna\",\n",
    "    \"hado\" : \"ada\",\n",
    "    \"hamba2\" : \"hamba-hamba\",\n",
    "    \"hbgn\" : \"hubungan\",\n",
    "    \"hepi\" : \"gembira\",\n",
    "    \"hjg\" : \"hujung\",\n",
    "    \"hjn\" : \"hujan\",\n",
    "    \"hjn2\" : \"hujan-hujan\",\n",
    "    \"hosp\" : \"hospital\",\n",
    "    \"hrap\" : \"harap\",\n",
    "    \"hrga\" : \"harga\",\n",
    "    \"hri\" : \"hari\",\n",
    "    \"hrp\" : \"harap\",\n",
    "    \"hutang2\" : \"hutang-hutang\",\n",
    "    \"hutg\" : \"hutang\",\n",
    "    \"hutng\" : \"hutang\",\n",
    "    \"igt\" : \"ingat\",\n",
    "    \"jap\" : \"kejap\",\n",
    "    \"jbt\" : \"jabatan\",\n",
    "    \"je\" : \"saja\",\n",
    "    \"jela\" : \"saja lah\",\n",
    "    \"jelh\" : \"saja lah\",\n",
    "    \"jer\" : \"saja\",\n",
    "    \"jelah\" : \"saja lah\",\n",
    "    \"jeles\" : \"cemburu\",\n",
    "    \"jls\" : \"jelas\",\n",
    "    \"jerlh\" : \"saja lah\",\n",
    "    \"jg\" : \"juga\",\n",
    "    \"jga\" : \"juga\",\n",
    "    \"jgk\" : \"juga\",\n",
    "    \"jgn\" : \"jangan\",\n",
    "    \"jgnla\" : \"janganlah\",\n",
    "    \"jgnlh\" : \"janganlah\",\n",
    "    \"jnis\" : \"jenis\",\n",
    "    \"jnji\" : \"janji\",\n",
    "    \"jls\" : \"jelas\",\n",
    "    \"jilak\" : \"jelak\",\n",
    "    \"jln\" : \"jalan\",\n",
    "    \"jls\" : \"jelas\",\n",
    "    \"jugak\" : \"juga\",\n",
    "    \"jwtn\" : \"jawatan\",\n",
    "    \"k\" : \"ok\",\n",
    "    \"kabe\" : \"kabar\",\n",
    "    \"kaber\" : \"kabar\",\n",
    "    \"kabo\" : \"kabar\",\n",
    "    \"kabor\" : \"kabar\",\n",
    "    \"kalo\" : \"kalau\",\n",
    "    \"kat\" : \"dekat\",\n",
    "    \"kawasan2\" : \"kawasan-kawasan\",\n",
    "    \"kaya2\" : \"kaya-kaya\",\n",
    "    \"kcik\" : \"kecik\",\n",
    "    \"kcuali\" : \"kecuali\",\n",
    "    \"kdg\" : \"kadang\",\n",
    "    \"kdg2\" : \"kadang-kadang\",\n",
    "    \"keja\" : \"kerja\",\n",
    "    \"keje\" : \"kerja\",\n",
    "    \"kejer\" : \"kerja\",\n",
    "    \"kelrga\" : \"keluarga\",\n",
    "    \"kene\" : \"kena\",\n",
    "    \"kepd\" : \"kepada\",\n",
    "    \"kerja2\" : \"karja-kerja\",\n",
    "    \"kja\" : \"kerja\",\n",
    "    \"kjaan\" : \"kerjaan\",\n",
    "    \"kje\" : \"kerja\",\n",
    "    \"kl\" : \"kalau\",\n",
    "    \"klau\" : \"kalau\",\n",
    "    \"klga\" : \"keluarga\",\n",
    "    \"klrga\" : \"keluarga\",\n",
    "    \"klu\" : \"kalau\",\n",
    "    \"kluarga\" : \"keluarga\",\n",
    "    \"kmi\" : \"kami\",\n",
    "    \"kn\" : \"kan\",\n",
    "    \"knape\" : \"kenapa\",\n",
    "    \"knp\" : \"kenapa\",\n",
    "    \"ko\" : \"kau\",\n",
    "    \"komen2\": \"komen-komen\",\n",
    "    \"korg\" : \"kamu orang\",\n",
    "    \"korng\" : \"kamu orang\",\n",
    "    \"kpd\" : \"kepada\",\n",
    "    \"kpda\" : \"kepada\",\n",
    "    \"kpde\" : \"kepada\",\n",
    "    \"krja\" : \"krja\",\n",
    "    \"ksh\" : \"kasih\",\n",
    "    \"ksut\" : \"kasut\",\n",
    "    \"kt\" : \"dekat\",\n",
    "    \"ku\" : \"aku\",\n",
    "    \"kuatkn\" : \"kuatkan\",\n",
    "    \"kwn\" : \"kawan\",\n",
    "    \"kwsan\" : \"kawasan\",\n",
    "    \"kwsn\" : \"kawasan\",\n",
    "    \"kwsn2\" : \"kawasan-kawasan\",\n",
    "    \"la\" : \"lah\",\n",
    "    \"laa\" : \"lah\",\n",
    "    \"lg\" : \"lagi\",\n",
    "    \"lgi\" : \"lagi\",\n",
    "    \"lh\" : \"lah\",\n",
    "    \"lma\" : \"lama\",\n",
    "    \"lmbat\" : \"lambat\",\n",
    "    \"lmbt\" : \"lambat\",\n",
    "    \"lme\" : \"lama\",\n",
    "    \"m\" : \"masih\",\n",
    "    \"mangsa2\" : \"mangsa-mangsa\",\n",
    "    \"memg\" : \"memang\",\n",
    "    \"mcari\" : \"mencari\",\n",
    "    \"mcm\" : \"macam\",\n",
    "    \"mcmne\" : \"macam mana\",\n",
    "    \"mcmni\" : \"macam ini\",\n",
    "    \"mcmtu\" : \"macam itu\",\n",
    "    \"mcmtue\" : \"macam itu\",\n",
    "    \"menjengok2\" : \"menjengok-jengok\",\n",
    "    \"menjlnkn\" : \"menjalankan\",\n",
    "    \"menteri2\" : \"menteri-menteri\",\n",
    "    \"menyelmt\" : \"menyelamat\",\n",
    "    \"mggu\" : \"minggu\",\n",
    "    \"mgsa\" : \"mangsa\",\n",
    "    \"mkn\" : \"makan\",\n",
    "    \"mksd\" : \"maksud\",\n",
    "    \"mintak\" : \"minta\",\n",
    "    \"mjlnkan\" : \"menjalankan\",\n",
    "    \"mmang\" : \"memang\",\n",
    "    \"mmg\" : \"memang\",\n",
    "    \"mmpu\" : \"mampu\",\n",
    "    \"mn\" : \"men\",\n",
    "    \"mndtgkn\" : \"mendatangkan\",\n",
    "    \"mne\" : \"mana\",\n",
    "    \"mngsa\" : \"mangsa\",\n",
    "    \"mngsa2\" : \"mangsa-mangsa\",\n",
    "    \"mnjaga\" : \"menjaga\",\n",
    "    \"mnta\" : \"minta\",\n",
    "    \"mntalh\" : \"mintalah\",\n",
    "    \"mnteri\" : \"menteri\",\n",
    "    \"mntri\" : \"menteri\",\n",
    "    \"mnyelamat\" : \"menyelamat\",\n",
    "    \"mnyelamatkn\" : \"menyelamatkan\",\n",
    "    \"moga\" : \"semoga\",\n",
    "    \"mreka\" : \"mereka\",\n",
    "    \"mrk\" : \"mereka\",\n",
    "    \"ms\" : \"masa\",\n",
    "    \"msa\" : \"masa\",\n",
    "    \"mse\" : \"masa\",\n",
    "    \"msh\" : \"masih\",\n",
    "    \"msj\" : \"mesej\",\n",
    "    \"mslh\" : \"masalah\",\n",
    "    \"msti\" : \"mesti\",\n",
    "    \"mu\" : \"kamu\",\n",
    "    \"mudah2\" : \"mudah-mudah\",\n",
    "    \"muge\" : \"semoga\",\n",
    "    \"muke\" : \"muka\",\n",
    "    \"musim2\" : \"musim-musim\",\n",
    "    \"n\": \"dan\",\n",
    "    \"nape\" : \"kenapa\",\n",
    "    \"ne\" : \"mana\",\n",
    "    \"ngan\" : \"dengan\",\n",
    "    \"ngn\" : \"dengan\",\n",
    "    \"nk\" : \"nak\",\n",
    "    \"nmpak\" : \"nampak\",\n",
    "    \"nmpk\" : \"nampak\",\n",
    "    \"nnt\" : \"nanti\",\n",
    "    \"nnti\" : \"nanti\",\n",
    "    \"nntilh\" : \"nantilah\",\n",
    "    \"ni\" : \"ini\",\n",
    "    \"nie\" : \"ini\",\n",
    "    \"nii\" : \"ini\",\n",
    "    \"nti\" : \"nanti\",\n",
    "    \"no\" : \"nombor\",\n",
    "    \"nye\" : \"nya\",\n",
    "    \"nyibuk\" : \"menyibuk\",\n",
    "    \"idup\" : \"hidup\",\n",
    "    \"olih\" : \"oleh\",\n",
    "    \"org\" : \"orang\",\n",
    "    \"org2\" : \"orang-orang\",\n",
    "    \"pd\" : \"pada\",\n",
    "    \"pda\" : \"pada\",\n",
    "    \"pdhal\" : \"pada hal\",\n",
    "    \"pe\" : \"apa\",\n",
    "    \"perda\" : \"perdana\",\n",
    "    \"pegi\" : \"pergi\",\n",
    "    \"petugas2\" : \"petugas-petugas\",\n",
    "    \"pg\" : \"pagi\",\n",
    "    \"pgi\" : \"pagi\",\n",
    "    \"pggl\" : \"panggil\",\n",
    "    \"ph\" : \"pakatan harapan\",\n",
    "    \"pk\" : \"fikir\",\n",
    "    \"pkai\" : \"pakai\",\n",
    "    \"pm\" : \"perdana menteri\",\n",
    "    \"pi\" : \"pergi\",\n",
    "    \"pihk\" : \"pihak\",\n",
    "    \"pjg\" : \"panjang\",\n",
    "    \"plan2\" : \"pelan-pelan\",\n",
    "    \"plg\" : \"paling\",\n",
    "    \"pmx\" : \"perdana menteri ke-10\",\n",
    "    \"pm10\" : \"perdana menteri ke-10\",\n",
    "    \"pn\" : \"pun\",\n",
    "    \"pndng\" : \"pandang\",\n",
    "    \"pndngn\" : \"pandangan\",\n",
    "    \"pnjg\" : \"panjang\",\n",
    "    \"pokok2\" : \"pokok-pokok\",\n",
    "    \"polisi2\" : \"polisi-polisi\",\n",
    "    \"pon\" : \"pun\",\n",
    "    \"pra\" : \"professional footballers association of malaysia\",\n",
    "    \"prmudoh\" : \"permudah\",\n",
    "    \"pntau\" : \"pantau\",\n",
    "    \"prnah\" : \"pernah\",\n",
    "    \"prnh\" : \"pernah\",\n",
    "    \"projek2\" : \"projek-projek\",\n",
    "    \"pru15\" : \"pilihan raya umum malaysia ke-15\",\n",
    "    \"pulak\" : \"pula\",\n",
    "    \"pusat2\" : \"pusat-pusat\",\n",
    "    \"pstikn\" : \"pastikan\",\n",
    "    \"pstu\" : \"pastu\",\n",
    "    \"ptg\" : \"petang\",\n",
    "    \"ptugas\" : \"petugas\",\n",
    "    \"pyh\" : \"payah\",\n",
    "    \"ramai2\" : \"ramai-ramai\",\n",
    "    \"retus\" : \"artis\",\n",
    "    \"rkn\" : \"rakan\",\n",
    "    \"rkyat\" : \"rakyat\",\n",
    "    \"rkyt\" : \"rakyat\",\n",
    "    \"rmai\" : \"ramai\",\n",
    "    \"rmh\" : \"rumah\",\n",
    "    \"rs\" : \"rasa\",\n",
    "    \"rsa\" : \"rasa\",\n",
    "    \"rse\" : \"rasa\",\n",
    "    \"sado\" : \"besar\",\n",
    "    \"salm\" : \"salam\",\n",
    "    \"sama2\" : \"sama-sama\",\n",
    "    \"sape\" : \"siapa\",\n",
    "    \"sbr\" : \"sabar\",\n",
    "    \"sdr\" : \"sedar\",\n",
    "    \"sebok\" : \"sebuk\",\n",
    "    \"sekurang2nya\" : \"sekurang-kurangnya\",\n",
    "    \"selmt\" : \"selamat\",\n",
    "    \"sbb\" : \"sebab\",\n",
    "    \"sblum\" : \"sebelum\",\n",
    "    \"sdg\" : \"sedang\",\n",
    "    \"sebaik2nya\" : \"sebaik-baiknya\",\n",
    "    \"semuga\" : \"semoga\",\n",
    "    \"sepnjng\" : \"sepanjang\",\n",
    "    \"sgala\" : \"segala\",\n",
    "    \"sgla\" : \"segala\",\n",
    "    \"sgt\" : \"sangat\",\n",
    "    \"sgt2\" : \"sangat-sangat\",\n",
    "    \"shbt\" : \"sahabat\",\n",
    "    \"shj\" : \"sahaja\",\n",
    "    \"skg\" : \"sekarang\",\n",
    "    \"skolah\" : \"sekolah\",\n",
    "    \"skong\" : \"sokong\",\n",
    "    \"skrg\" : \"sekarang\",\n",
    "    \"siap2\" : \"siap-siap\",\n",
    "    \"sibuk2\" : \"sibuk-sibuk\",\n",
    "    \"slamat\" : \"selamat\",\n",
    "    \"slh\" : \"salah\",\n",
    "    \"slm\" : \"salam\",\n",
    "    \"smg\" : \"semoga\",\n",
    "    \"smoga\" : \"semoga\",\n",
    "    \"smpai\" : \"sampai\",\n",
    "    \"smpi\" : \"sampai\",\n",
    "    \"smua\" : \"semua\",\n",
    "    \"sna\" : \"sana\",\n",
    "    \"sngt\" : \"sangat\",\n",
    "    \"sni\" : \"sini\",\n",
    "    \"sorg\" : \"seorang\",\n",
    "    \"spital\" : \"hospital\",\n",
    "    \"spt\" : \"seperti\",\n",
    "    \"stiap\" : \"setiap\",\n",
    "    \"stu\" : \"situ\",\n",
    "    \"swt\" : \"subhanahu wa ta'ala\",\n",
    "    \"sy\" : \"saya\",\n",
    "    \"sya\" : \"saya\",\n",
    "    \"syng\" : \"sayang\",\n",
    "    \"t\" : \"nanti\",\n",
    "    \"takda\" : \"tak ada\",\n",
    "    \"takde\" : \"tak ada\",\n",
    "    \"taknk\" : \"tak nak\",\n",
    "    \"tanah2\" : \"tanah-tanah\",\n",
    "    \"tau\" : \"tahu\",\n",
    "    \"tautk\" : \"tahu tak\",\n",
    "    \"taux\" : \"tahu tak\",\n",
    "    \"taw\" : \"tau\",\n",
    "    \"tawu\" : \"tau\",\n",
    "    \"tbaik\" : \"terbaik\",\n",
    "    \"td\" : \"tadi\",\n",
    "    \"tdk\" : \"tidak\",\n",
    "    \"tdo\" : \"tidur\",\n",
    "    \"tersyg\" : \"tersayang\",\n",
    "    \"tggi\" : \"tinggi\",\n",
    "    \"tgk\" : \"tengok\",\n",
    "    \"thn\" : \"tahun\",\n",
    "    \"tiap\" : \"setiap\",\n",
    "    \"tido\" : \"tidur\",\n",
    "    \"tk\" : \"tak\",\n",
    "    \"tknk\" : \"tak nak\",\n",
    "    \"tksh\" : \"terima kasih\",\n",
    "    \"tksih\" : \"terima kasih\",\n",
    "    \"tkut\" : \"takut\",\n",
    "    \"tlibat\" : \"terlibat\",\n",
    "    \"tmpt\" : \"tempat\",\n",
    "    \"tmpt2\" : \"tempat-tempat\",\n",
    "    \"tnda\" : \"tanda\",\n",
    "    \"tnda2\" : \"tanda-tanda\",\n",
    "    \"tnh\" : \"tanah\",\n",
    "    \"tntu\" : \"tentu\",\n",
    "    \"ttg\" : \"tentang\",\n",
    "    \"ttu\" : \"tentu\",\n",
    "    \"tu\" : \"itu\",\n",
    "    \"tugas2\" : \"tugas-tugas\",\n",
    "    \"tuk\" : \"untuk\",\n",
    "    \"tuu\" : \"itu\",\n",
    "    \"tpi\" : \"tapi\",\n",
    "    \"tpt\" : \"tetapi\",\n",
    "    \"tq\" : \"terima kasih\",\n",
    "    \"tr\" : \"ter\",\n",
    "    \"trbaik\" : \"terbaik\",\n",
    "    \"trhdp\" : \"terhadap\",\n",
    "    \"trlibt\" : \"terlibat\",\n",
    "    \"trlps\" : \"terlepas\",\n",
    "    \"trm\" : \"terima\",\n",
    "    \"trma\" : \"terima\",\n",
    "    \"trus\" : \"terus\",\n",
    "    \"udah\" : \"sudah\",\n",
    "    \"ujan\" : \"hujan\",\n",
    "    \"urusn\" : \"urusan\",\n",
    "    \"utk\" : \"untuk\",\n",
    "    \"vip2\" : \"vip-vip\",\n",
    "    \"waris2\" : \"waris-waris\",\n",
    "    \"wlpn\" : \"walaupun\",\n",
    "    \"wlpun\" : \"walaupun\",\n",
    "    \"wpun\" : \"walaupun\",\n",
    "    \"wslm\" : \"wa’alaikumsalam\",\n",
    "    \"x\" : \"tak\",\n",
    "    \"xberapa\" : \"tak berapa\",\n",
    "    \"xberbau\" : \"tak berbau\",\n",
    "    \"xbrp\" : \"tak berapa\",\n",
    "    \"xkn\" : \"tak kan\",\n",
    "    \"xkan\" : \"tak kan\",\n",
    "    \"xle\" : \"tak boleh\",\n",
    "    \"xleh\" : \"tak boleh\",\n",
    "    \"xmau\" : \"tak mahu\",\n",
    "    \"xmenentu\" : \"tak menentu\",\n",
    "    \"xnk\" : \"tak nak\",\n",
    "    \"xperlu\" : \"tak perlu\",\n",
    "    \"xprlu\" : \"tak perlu\",\n",
    "    \"xya\" : \"tak payah\",\n",
    "    \"xyah\" : \"tak payah\",\n",
    "    \"y\" : \"yang\",\n",
    "    \"yab\" : \"yang amat berhormat\",\n",
    "    \"yg\" : \"yang\",\n",
    "    \"yng\" : \"yang\",\n",
    "    \"yra\" : \"ya rabbal alamin\"\n",
    "\n",
    "}\n"
   ]
  },
  {
   "cell_type": "code",
   "execution_count": 25,
   "id": "575afdbb",
   "metadata": {},
   "outputs": [
    {
     "name": "stdout",
     "output_type": "stream",
     "text": [
      "0      [ya, kadang, kadang, datang, menteri, menteri,...\n",
      "1      [baik, dato, sri, perdana menteri ke-10, mente...\n",
      "2                   [baik, dato' seri anwar bin ibrahim]\n",
      "3      [baik, dato' seri anwar bin ibrahim, semoga, s...\n",
      "4      [assalamualaikum, dato' seri anwar bin ibrahim...\n",
      "                             ...                        \n",
      "651                   [tak ada, lesen, boleh, beoperasi]\n",
      "652    [ingat, yang, baik, untuk, menteri, menteri, s...\n",
      "653    [siapa, yang, nak, pergi, ganggu, semua, raaya...\n",
      "654    [innalillahiwainnailaihiroiiun, salam, takziah...\n",
      "655    [kasi, ini, yang, kena, musibah, longsor, semo...\n",
      "Length: 656, dtype: object\n"
     ]
    }
   ],
   "source": [
    "for s in sentence_tok:\n",
    "    for i in range(len(s)):\n",
    "        for key, value in malaydict.items():\n",
    "            if s[i] == key:\n",
    "                s[i] = value\n",
    "            else:\n",
    "                s[i] = s[i]\n",
    "\n",
    "print(sentence_tok)"
   ]
  },
  {
   "cell_type": "code",
   "execution_count": 26,
   "id": "2928c23f",
   "metadata": {},
   "outputs": [],
   "source": [
    "lem_sen = [\" \".join(token) for token in sentence_tok]\n",
    "lem_sen = pd.Series(lem_sen)"
   ]
  },
  {
   "cell_type": "code",
   "execution_count": 27,
   "id": "1b1b7800",
   "metadata": {},
   "outputs": [
    {
     "name": "stdout",
     "output_type": "stream",
     "text": [
      "0      ya kadang kadang datang menteri menteri bukan ...\n",
      "1      baik dato sri perdana menteri ke-10 menteri ja...\n",
      "2                      baik dato' seri anwar bin ibrahim\n",
      "3      baik dato' seri anwar bin ibrahim semoga semua...\n",
      "4      assalamualaikum dato' seri anwar bin ibrahim y...\n",
      "                             ...                        \n",
      "651                        tak ada lesen boleh beoperasi\n",
      "652    ingat yang baik untuk menteri menteri sebab be...\n",
      "653    siapa yang nak pergi ganggu semua raayat kalau...\n",
      "654    innalillahiwainnailaihiroiiun salam takziah un...\n",
      "655    kasi ini yang kena musibah longsor semoga dato...\n",
      "Length: 656, dtype: object\n"
     ]
    }
   ],
   "source": [
    "print(lem_sen)"
   ]
  },
  {
   "cell_type": "markdown",
   "id": "8cb51cce",
   "metadata": {},
   "source": [
    "## Application / User Input"
   ]
  },
  {
   "cell_type": "code",
   "execution_count": 29,
   "id": "8513ca30",
   "metadata": {},
   "outputs": [
    {
     "name": "stdout",
     "output_type": "stream",
     "text": [
      "Enter a sentence to lemmatize it: 哇塞，kamera ni mmg best\n",
      "wow , kamera ini memang terbaik\n"
     ]
    }
   ],
   "source": [
    "user_sen = input(\"Enter a sentence to lemmatize it: \")\n",
    "\n",
    "user_token = nltk.word_tokenize(user_sen)\n",
    "user_sen = [translator.translate(t, dest=\"ms\") for t in user_token]\n",
    "translated = [user_sen[i].text for i in range(len(user_sen))]\n",
    "translated = \" \".join(translated) \n",
    "user_token = nltk.word_tokenize(translated)\n",
    "\n",
    "for i in range(len(user_token)):\n",
    "    for key, value in malaydict.items():\n",
    "        if user_token[i] == key:\n",
    "            user_token[i] = value\n",
    "\n",
    "user_sen = \" \".join(user_token)            \n",
    "print(user_sen)\n"
   ]
  },
  {
   "cell_type": "code",
   "execution_count": null,
   "id": "2190f699",
   "metadata": {},
   "outputs": [],
   "source": []
  }
 ],
 "metadata": {
  "kernelspec": {
   "display_name": "Python 3 (ipykernel)",
   "language": "python",
   "name": "python3"
  },
  "language_info": {
   "codemirror_mode": {
    "name": "ipython",
    "version": 3
   },
   "file_extension": ".py",
   "mimetype": "text/x-python",
   "name": "python",
   "nbconvert_exporter": "python",
   "pygments_lexer": "ipython3",
   "version": "3.9.13"
  }
 },
 "nbformat": 4,
 "nbformat_minor": 5
}
